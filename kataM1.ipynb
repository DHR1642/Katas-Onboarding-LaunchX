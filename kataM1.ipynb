{
 "cells": [
  {
   "cell_type": "markdown",
   "metadata": {},
   "source": [
    "## Programa para la nave espacial que muestra la fecha y convierte la distancia de parsec a años luz"
   ]
  },
  {
   "cell_type": "code",
   "execution_count": 1,
   "metadata": {},
   "outputs": [],
   "source": [
    "from datetime import date"
   ]
  },
  {
   "cell_type": "code",
   "execution_count": 2,
   "metadata": {},
   "outputs": [
    {
     "name": "stdout",
     "output_type": "stream",
     "text": [
      "La fecha de hoy es: 2022-02-15\n"
     ]
    }
   ],
   "source": [
    "print(\"La fecha de hoy es: \"+ str(date.today()))"
   ]
  },
  {
   "cell_type": "code",
   "execution_count": 2,
   "metadata": {},
   "outputs": [
    {
     "name": "stdout",
     "output_type": "stream",
     "text": [
      "Convertidor de parsec a años luz\n"
     ]
    }
   ],
   "source": [
    "print(\"Convertidor de parsec a años luz\")\n",
    "par = float(input(\"Introduce la distancia en parsec: \"))"
   ]
  },
  {
   "cell_type": "code",
   "execution_count": 4,
   "metadata": {},
   "outputs": [
    {
     "name": "stdout",
     "output_type": "stream",
     "text": [
      "La distancia 11.0 parsec en años luz es: \n",
      "35.877159999999996\n"
     ]
    }
   ],
   "source": [
    "print(\"La distancia \"+ str(par)+ \" parsec en años luz es: \")\n",
    "al = par*3.26156\n",
    "print(al)\n"
   ]
  },
  {
   "cell_type": "code",
   "execution_count": 6,
   "metadata": {},
   "outputs": [
    {
     "name": "stdout",
     "output_type": "stream",
     "text": [
      "Adiós :)\n",
      "Tripulante: Rodrigo Rafael Hurtado García\n"
     ]
    }
   ],
   "source": [
    "print(\"Adiós :)\")\n",
    "print(\"Tripulante: Rodrigo Rafael Hurtado García\")"
   ]
  }
 ],
 "metadata": {
  "interpreter": {
   "hash": "aee8b7b246df8f9039afb4144a1f6fd8d2ca17a180786b69acc140d282b71a49"
  },
  "kernelspec": {
   "display_name": "Python 3.9.5 64-bit",
   "language": "python",
   "name": "python3"
  },
  "language_info": {
   "codemirror_mode": {
    "name": "ipython",
    "version": 3
   },
   "file_extension": ".py",
   "mimetype": "text/x-python",
   "name": "python",
   "nbconvert_exporter": "python",
   "pygments_lexer": "ipython3",
   "version": "3.9.5"
  },
  "orig_nbformat": 4
 },
 "nbformat": 4,
 "nbformat_minor": 2
}
